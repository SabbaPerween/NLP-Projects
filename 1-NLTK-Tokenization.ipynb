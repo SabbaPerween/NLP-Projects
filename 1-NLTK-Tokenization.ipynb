{
 "cells": [
  {
   "cell_type": "code",
   "execution_count": 1,
   "id": "19b57311",
   "metadata": {},
   "outputs": [
    {
     "name": "stdout",
     "output_type": "stream",
     "text": [
      "Requirement already satisfied: nltk in c:\\users\\acer\\anaconda3\\lib\\site-packages (3.8.1)\n",
      "Requirement already satisfied: click in c:\\users\\acer\\anaconda3\\lib\\site-packages (from nltk) (8.0.4)\n",
      "Requirement already satisfied: joblib in c:\\users\\acer\\anaconda3\\lib\\site-packages (from nltk) (1.2.0)\n",
      "Requirement already satisfied: regex>=2021.8.3 in c:\\users\\acer\\anaconda3\\lib\\site-packages (from nltk) (2022.7.9)\n",
      "Requirement already satisfied: tqdm in c:\\users\\acer\\anaconda3\\lib\\site-packages (from nltk) (4.65.0)\n",
      "Requirement already satisfied: colorama in c:\\users\\acer\\anaconda3\\lib\\site-packages (from click->nltk) (0.4.6)\n"
     ]
    }
   ],
   "source": [
    "!pip install nltk\n"
   ]
  },
  {
   "cell_type": "markdown",
   "id": "e93ad17e",
   "metadata": {},
   "source": [
    "### Performing Tokenizaton"
   ]
  },
  {
   "cell_type": "code",
   "execution_count": 2,
   "id": "a51a0d89",
   "metadata": {},
   "outputs": [],
   "source": [
    "corpus=\"\"\"Hello Welcome, to Sabba NLP Tutorials.\n",
    "Please do watch the entire course! to become expert in NLP.\n",
    "\n",
    "\"\"\""
   ]
  },
  {
   "cell_type": "code",
   "execution_count": 3,
   "id": "a2310d6b",
   "metadata": {},
   "outputs": [
    {
     "name": "stdout",
     "output_type": "stream",
     "text": [
      "Hello Welcome, to Sabba NLP Tutorials.\n",
      "Please do watch the entire course! to become expert in NLP.\n",
      "\n",
      "\n"
     ]
    }
   ],
   "source": [
    "print(corpus)"
   ]
  },
  {
   "cell_type": "code",
   "execution_count": 12,
   "id": "15e6b964",
   "metadata": {},
   "outputs": [
    {
     "name": "stderr",
     "output_type": "stream",
     "text": [
      "[nltk_data] Downloading package punkt to\n",
      "[nltk_data]     C:\\Users\\Acer\\AppData\\Roaming\\nltk_data...\n",
      "[nltk_data]   Unzipping tokenizers\\punkt.zip.\n"
     ]
    },
    {
     "data": {
      "text/plain": [
       "True"
      ]
     },
     "execution_count": 12,
     "metadata": {},
     "output_type": "execute_result"
    }
   ],
   "source": [
    "#Tokenization\n",
    "#Paragraph---->sentences\n",
    "from nltk.tokenize import sent_tokenize\n",
    "import nltk\n",
    "nltk.download('punkt')"
   ]
  },
  {
   "cell_type": "code",
   "execution_count": 13,
   "id": "657fc9b7",
   "metadata": {},
   "outputs": [
    {
     "name": "stdout",
     "output_type": "stream",
     "text": [
      "['Hello Welcome, to Sabba NLP Tutorials.', 'Please do watch the entire course!', 'to become expert in NLP.']\n"
     ]
    }
   ],
   "source": [
    "tokens=sent_tokenize(corpus)\n",
    "print(tokens)"
   ]
  },
  {
   "cell_type": "code",
   "execution_count": 14,
   "id": "b5ad27a8",
   "metadata": {},
   "outputs": [
    {
     "data": {
      "text/plain": [
       "list"
      ]
     },
     "execution_count": 14,
     "metadata": {},
     "output_type": "execute_result"
    }
   ],
   "source": [
    "type(tokens)"
   ]
  },
  {
   "cell_type": "code",
   "execution_count": 15,
   "id": "353fc038",
   "metadata": {},
   "outputs": [
    {
     "name": "stdout",
     "output_type": "stream",
     "text": [
      "Hello Welcome, to Sabba NLP Tutorials.\n",
      "Please do watch the entire course!\n",
      "to become expert in NLP.\n"
     ]
    }
   ],
   "source": [
    "for sentence in tokens:\n",
    "    print(sentence)"
   ]
  },
  {
   "cell_type": "code",
   "execution_count": 16,
   "id": "2ea3dca5",
   "metadata": {},
   "outputs": [],
   "source": [
    "##Tokenizazation\n",
    "##Paragraphs--->words\n",
    "##Sentence--->words\n",
    "from nltk.tokenize import word_tokenize"
   ]
  },
  {
   "cell_type": "code",
   "execution_count": 17,
   "id": "8f6e41cc",
   "metadata": {},
   "outputs": [
    {
     "name": "stdout",
     "output_type": "stream",
     "text": [
      "['Hello', 'Welcome', ',', 'to', 'Sabba', 'NLP', 'Tutorials', '.', 'Please', 'do', 'watch', 'the', 'entire', 'course', '!', 'to', 'become', 'expert', 'in', 'NLP', '.']\n"
     ]
    }
   ],
   "source": [
    "token1=print(word_tokenize(corpus))"
   ]
  },
  {
   "cell_type": "code",
   "execution_count": 19,
   "id": "38ae1f3e",
   "metadata": {},
   "outputs": [
    {
     "name": "stdout",
     "output_type": "stream",
     "text": [
      "['Hello', 'Welcome', ',', 'to', 'Sabba', 'NLP', 'Tutorials', '.']\n",
      "['Please', 'do', 'watch', 'the', 'entire', 'course', '!']\n",
      "['to', 'become', 'expert', 'in', 'NLP', '.']\n"
     ]
    }
   ],
   "source": [
    "for sentence in tokens:\n",
    "    print(word_tokenize(sentence))"
   ]
  },
  {
   "cell_type": "code",
   "execution_count": 20,
   "id": "282006ee",
   "metadata": {},
   "outputs": [],
   "source": [
    "#####anoer linerly\n",
    "from nltk.tokenize import wordpunct_tokenize###word puncation treat different"
   ]
  },
  {
   "cell_type": "code",
   "execution_count": 21,
   "id": "fbf5a1d2",
   "metadata": {},
   "outputs": [
    {
     "data": {
      "text/plain": [
       "['Hello',\n",
       " 'Welcome',\n",
       " ',',\n",
       " 'to',\n",
       " 'Sabba',\n",
       " 'NLP',\n",
       " 'Tutorials',\n",
       " '.',\n",
       " 'Please',\n",
       " 'do',\n",
       " 'watch',\n",
       " 'the',\n",
       " 'entire',\n",
       " 'course',\n",
       " '!',\n",
       " 'to',\n",
       " 'become',\n",
       " 'expert',\n",
       " 'in',\n",
       " 'NLP',\n",
       " '.']"
      ]
     },
     "execution_count": 21,
     "metadata": {},
     "output_type": "execute_result"
    }
   ],
   "source": [
    "wordpunct_tokenize(corpus)"
   ]
  },
  {
   "cell_type": "code",
   "execution_count": 23,
   "id": "01cf026f",
   "metadata": {},
   "outputs": [],
   "source": [
    "from nltk.tokenize import TreebankWordTokenizer##fullstop not seprate but last fullsttop seprate"
   ]
  },
  {
   "cell_type": "code",
   "execution_count": 25,
   "id": "7944aac2",
   "metadata": {},
   "outputs": [],
   "source": [
    "Tokenizer=TreebankWordTokenizer()"
   ]
  },
  {
   "cell_type": "code",
   "execution_count": 26,
   "id": "d63565bd",
   "metadata": {},
   "outputs": [
    {
     "data": {
      "text/plain": [
       "['Hello',\n",
       " 'Welcome',\n",
       " ',',\n",
       " 'to',\n",
       " 'Sabba',\n",
       " 'NLP',\n",
       " 'Tutorials.',\n",
       " 'Please',\n",
       " 'do',\n",
       " 'watch',\n",
       " 'the',\n",
       " 'entire',\n",
       " 'course',\n",
       " '!',\n",
       " 'to',\n",
       " 'become',\n",
       " 'expert',\n",
       " 'in',\n",
       " 'NLP',\n",
       " '.']"
      ]
     },
     "execution_count": 26,
     "metadata": {},
     "output_type": "execute_result"
    }
   ],
   "source": [
    "Tokenizer.tokenize(corpus)"
   ]
  },
  {
   "cell_type": "markdown",
   "id": "055d7b16",
   "metadata": {},
   "source": [
    "# Practice"
   ]
  },
  {
   "cell_type": "code",
   "execution_count": 27,
   "id": "88806328",
   "metadata": {},
   "outputs": [],
   "source": [
    "corpus=\"\"\"Hello Dear Learners, I was able to record the fresh python modules with all the advance topics within 1.5 weeks for the course Complete Machine Learning,NLP Bootcamp MLOPS & Deployment. \n",
    "I hope you are loving the course!.\n",
    "As I am working really hard to make this course's as a one stop.\n",
    "\"\"\""
   ]
  },
  {
   "cell_type": "code",
   "execution_count": 28,
   "id": "26678367",
   "metadata": {},
   "outputs": [
    {
     "name": "stdout",
     "output_type": "stream",
     "text": [
      "Hello Dear Learners, I was able to record the fresh python modules with all the advance topics within 1.5 weeks for the course Complete Machine Learning,NLP Bootcamp MLOPS & Deployment. \n",
      "I hope you are loving the course!.\n",
      "As I am working really hard to make this course's as a one stop.\n",
      "\n"
     ]
    }
   ],
   "source": [
    "print(corpus)"
   ]
  },
  {
   "cell_type": "code",
   "execution_count": 29,
   "id": "68696bf6",
   "metadata": {},
   "outputs": [],
   "source": [
    "from nltk.tokenize import sent_tokenize"
   ]
  },
  {
   "cell_type": "code",
   "execution_count": 31,
   "id": "e96df0dd",
   "metadata": {},
   "outputs": [],
   "source": [
    "token=sent_tokenize(corpus)"
   ]
  },
  {
   "cell_type": "code",
   "execution_count": 35,
   "id": "f12a2003",
   "metadata": {},
   "outputs": [
    {
     "name": "stdout",
     "output_type": "stream",
     "text": [
      "Hello Dear Learners, I was able to record the fresh python modules with all the advance topics within 1.5 weeks for the course Complete Machine Learning,NLP Bootcamp MLOPS & Deployment.\n",
      "I hope you are loving the course!.\n",
      "As I am working really hard to make this course's as a one stop.\n"
     ]
    }
   ],
   "source": [
    "for sent in token:\n",
    "    print(sent)"
   ]
  },
  {
   "cell_type": "code",
   "execution_count": 33,
   "id": "38fcd484",
   "metadata": {},
   "outputs": [],
   "source": [
    "from nltk.tokenize import word_tokenize"
   ]
  },
  {
   "cell_type": "code",
   "execution_count": 36,
   "id": "36254ead",
   "metadata": {},
   "outputs": [
    {
     "name": "stdout",
     "output_type": "stream",
     "text": [
      "['Hello', 'Dear', 'Learners', ',', 'I', 'was', 'able', 'to', 'record', 'the', 'fresh', 'python', 'modules', 'with', 'all', 'the', 'advance', 'topics', 'within', '1.5', 'weeks', 'for', 'the', 'course', 'Complete', 'Machine', 'Learning', ',', 'NLP', 'Bootcamp', 'MLOPS', '&', 'Deployment', '.', 'I', 'hope', 'you', 'are', 'loving', 'the', 'course', '!', '.', 'As', 'I', 'am', 'working', 'really', 'hard', 'to', 'make', 'this', 'course', \"'s\", 'as', 'a', 'one', 'stop', '.']\n"
     ]
    }
   ],
   "source": [
    "token2=word_tokenize(corpus)\n",
    "print(token2)"
   ]
  },
  {
   "cell_type": "code",
   "execution_count": 38,
   "id": "174a0d94",
   "metadata": {},
   "outputs": [
    {
     "name": "stdout",
     "output_type": "stream",
     "text": [
      "['Hello', 'Dear', 'Learners', ',', 'I', 'was', 'able', 'to', 'record', 'the', 'fresh', 'python', 'modules', 'with', 'all', 'the', 'advance', 'topics', 'within', '1.5', 'weeks', 'for', 'the', 'course', 'Complete', 'Machine', 'Learning', ',', 'NLP', 'Bootcamp', 'MLOPS', '&', 'Deployment', '.']\n",
      "['I', 'hope', 'you', 'are', 'loving', 'the', 'course', '!', '.']\n",
      "['As', 'I', 'am', 'working', 'really', 'hard', 'to', 'make', 'this', 'course', \"'s\", 'as', 'a', 'one', 'stop', '.']\n"
     ]
    }
   ],
   "source": [
    "for sent in token:\n",
    "    print(word_tokenize(sent))"
   ]
  },
  {
   "cell_type": "code",
   "execution_count": null,
   "id": "230872b1",
   "metadata": {},
   "outputs": [],
   "source": []
  }
 ],
 "metadata": {
  "kernelspec": {
   "display_name": "Python 3 (ipykernel)",
   "language": "python",
   "name": "python3"
  },
  "language_info": {
   "codemirror_mode": {
    "name": "ipython",
    "version": 3
   },
   "file_extension": ".py",
   "mimetype": "text/x-python",
   "name": "python",
   "nbconvert_exporter": "python",
   "pygments_lexer": "ipython3",
   "version": "3.11.11"
  }
 },
 "nbformat": 4,
 "nbformat_minor": 5
}
