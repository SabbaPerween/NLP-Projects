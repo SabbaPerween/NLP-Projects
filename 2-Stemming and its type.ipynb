{
 "cells": [
  {
   "cell_type": "code",
   "execution_count": 1,
   "id": "98d50211",
   "metadata": {},
   "outputs": [],
   "source": [
    "## Classification\n",
    "## Comment of product is a positive review or negative review\n",
    "## Reviews--->[eating,eat,eaten=eat is word stam of all thi word],[going,gone,goes=go is word stem]"
   ]
  },
  {
   "cell_type": "code",
   "execution_count": 2,
   "id": "6998eafb",
   "metadata": {},
   "outputs": [],
   "source": [
    "words=[\"eating\",\"eats\",\"eaten\",\"writing\",\"writes\",\"programming\",\"programs\",\"history\",\"finally\",\"finalize\"]"
   ]
  },
  {
   "cell_type": "markdown",
   "id": "7d7987aa",
   "metadata": {},
   "source": [
    "## PoterStemmer-Stamming process"
   ]
  },
  {
   "cell_type": "code",
   "execution_count": 3,
   "id": "5f929d12",
   "metadata": {},
   "outputs": [],
   "source": [
    "from nltk.stem import PorterStemmer"
   ]
  },
  {
   "cell_type": "code",
   "execution_count": 4,
   "id": "a530e29f",
   "metadata": {},
   "outputs": [],
   "source": [
    "stemming=PorterStemmer()"
   ]
  },
  {
   "cell_type": "code",
   "execution_count": 5,
   "id": "b0753643",
   "metadata": {},
   "outputs": [
    {
     "name": "stdout",
     "output_type": "stream",
     "text": [
      "eating---->eat\n",
      "eats---->eat\n",
      "eaten---->eaten\n",
      "writing---->write\n",
      "writes---->write\n",
      "programming---->program\n",
      "programs---->program\n",
      "history---->histori\n",
      "finally---->final\n",
      "finalize---->final\n"
     ]
    }
   ],
   "source": [
    "for word in words:\n",
    "    print(word+\"---->\"+stemming.stem(word))"
   ]
  },
  {
   "cell_type": "code",
   "execution_count": 8,
   "id": "3597f3c3",
   "metadata": {},
   "outputs": [
    {
     "data": {
      "text/plain": [
       "'cngratul'"
      ]
     },
     "execution_count": 8,
     "metadata": {},
     "output_type": "execute_result"
    }
   ],
   "source": [
    "stemming.stem(\"cngratulations\")##disadv of stamming->not give wire meaningful word for some word"
   ]
  },
  {
   "cell_type": "code",
   "execution_count": 7,
   "id": "3c21ee38",
   "metadata": {},
   "outputs": [
    {
     "data": {
      "text/plain": [
       "'sit'"
      ]
     },
     "execution_count": 7,
     "metadata": {},
     "output_type": "execute_result"
    }
   ],
   "source": [
    "stemming.stem(\"sitting\")"
   ]
  },
  {
   "cell_type": "markdown",
   "id": "93e8fc74",
   "metadata": {},
   "source": [
    "## RegexpStemmer class\n",
    "\n",
    "it can easily implement Regular Expression Stemmer algorithm.it basicall take single regular expression and remove any prefix or suffix that match the expression"
   ]
  },
  {
   "cell_type": "code",
   "execution_count": 9,
   "id": "b5d9376e",
   "metadata": {},
   "outputs": [],
   "source": [
    "from nltk.stem import RegexpStemmer"
   ]
  },
  {
   "cell_type": "code",
   "execution_count": 12,
   "id": "5a0e3f4d",
   "metadata": {},
   "outputs": [],
   "source": [
    "reg_stammer=RegexpStemmer('ing$|s$|e$|able$', min=4)#only in last"
   ]
  },
  {
   "cell_type": "code",
   "execution_count": 13,
   "id": "4648ec20",
   "metadata": {},
   "outputs": [
    {
     "data": {
      "text/plain": [
       "'eat'"
      ]
     },
     "execution_count": 13,
     "metadata": {},
     "output_type": "execute_result"
    }
   ],
   "source": [
    "reg_stammer.stem(\"eating\")"
   ]
  },
  {
   "cell_type": "code",
   "execution_count": 14,
   "id": "d1127b22",
   "metadata": {},
   "outputs": [
    {
     "data": {
      "text/plain": [
       "'ingeat'"
      ]
     },
     "execution_count": 14,
     "metadata": {},
     "output_type": "execute_result"
    }
   ],
   "source": [
    "reg_stammer.stem(\"ingeating\")"
   ]
  },
  {
   "cell_type": "code",
   "execution_count": 15,
   "id": "4005f6a9",
   "metadata": {},
   "outputs": [],
   "source": [
    "reg_stammer=RegexpStemmer('ing|s$|e$|able$', min=4)"
   ]
  },
  {
   "cell_type": "code",
   "execution_count": 16,
   "id": "12fa4cc4",
   "metadata": {},
   "outputs": [
    {
     "data": {
      "text/plain": [
       "'eat'"
      ]
     },
     "execution_count": 16,
     "metadata": {},
     "output_type": "execute_result"
    }
   ],
   "source": [
    "reg_stammer.stem(\"ingeating\")"
   ]
  },
  {
   "cell_type": "markdown",
   "id": "54fcb316",
   "metadata": {},
   "source": [
    "## SnowBallStammer\n",
    "it is better thaan PoterStammer also meaniful word and better asscurecy"
   ]
  },
  {
   "cell_type": "code",
   "execution_count": 18,
   "id": "ae3ee7da",
   "metadata": {},
   "outputs": [],
   "source": [
    "from nltk.stem import SnowballStemmer"
   ]
  },
  {
   "cell_type": "code",
   "execution_count": 20,
   "id": "290df0fb",
   "metadata": {},
   "outputs": [],
   "source": [
    "stemmer=SnowballStemmer('english')"
   ]
  },
  {
   "cell_type": "code",
   "execution_count": 21,
   "id": "20279e0b",
   "metadata": {},
   "outputs": [
    {
     "name": "stdout",
     "output_type": "stream",
     "text": [
      "eating----->eat\n",
      "eats----->eat\n",
      "eaten----->eaten\n",
      "writing----->write\n",
      "writes----->write\n",
      "programming----->program\n",
      "programs----->program\n",
      "history----->histori\n",
      "finally----->final\n",
      "finalize----->final\n"
     ]
    }
   ],
   "source": [
    "for word in words:\n",
    "    print(word+\"----->\"+stemmer.stem(word))\n"
   ]
  },
  {
   "cell_type": "code",
   "execution_count": 22,
   "id": "68ec1e48",
   "metadata": {},
   "outputs": [
    {
     "data": {
      "text/plain": [
       "('fairli', 'sportingli')"
      ]
     },
     "execution_count": 22,
     "metadata": {},
     "output_type": "execute_result"
    }
   ],
   "source": [
    "stemming.stem(\"fairly\"),stemming.stem(\"sportingly\")##PoterTammer"
   ]
  },
  {
   "cell_type": "code",
   "execution_count": 23,
   "id": "aa66fef2",
   "metadata": {},
   "outputs": [
    {
     "data": {
      "text/plain": [
       "('fair', 'sport')"
      ]
     },
     "execution_count": 23,
     "metadata": {},
     "output_type": "execute_result"
    }
   ],
   "source": [
    "stemmer.stem(\"fairly\"),stemmer.stem(\"sportingly\")##SnowballStammer"
   ]
  },
  {
   "cell_type": "code",
   "execution_count": 24,
   "id": "e214b478",
   "metadata": {},
   "outputs": [
    {
     "data": {
      "text/plain": [
       "'goe'"
      ]
     },
     "execution_count": 24,
     "metadata": {},
     "output_type": "execute_result"
    }
   ],
   "source": [
    "stemmer.stem(\"goes\")"
   ]
  },
  {
   "cell_type": "code",
   "execution_count": 25,
   "id": "496f78ac",
   "metadata": {},
   "outputs": [],
   "source": [
    "##for overcome from this stemming disadvantage we besically use Lemmatization"
   ]
  },
  {
   "cell_type": "code",
   "execution_count": null,
   "id": "a92f8b32",
   "metadata": {},
   "outputs": [],
   "source": []
  }
 ],
 "metadata": {
  "kernelspec": {
   "display_name": "Python 3 (ipykernel)",
   "language": "python",
   "name": "python3"
  },
  "language_info": {
   "codemirror_mode": {
    "name": "ipython",
    "version": 3
   },
   "file_extension": ".py",
   "mimetype": "text/x-python",
   "name": "python",
   "nbconvert_exporter": "python",
   "pygments_lexer": "ipython3",
   "version": "3.11.11"
  }
 },
 "nbformat": 4,
 "nbformat_minor": 5
}
